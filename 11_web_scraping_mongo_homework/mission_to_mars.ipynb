{
 "cells": [
  {
   "cell_type": "code",
   "execution_count": 80,
   "metadata": {
    "collapsed": true
   },
   "outputs": [],
   "source": [
    "# Dependencies\n",
    "from bs4 import BeautifulSoup\n",
    "import requests\n",
    "import pymongo\n",
    "from bson.json_util import dumps\n",
    "from dateutil import parser\n",
    "import pytz\n",
    "import pandas as pd\n",
    "\n",
    "# Initialize PyMongo to work with MongoDBs\n",
    "conn = 'mongodb://localhost:27017'\n",
    "client = pymongo.MongoClient(conn)"
   ]
  },
  {
   "cell_type": "code",
   "execution_count": 30,
   "metadata": {
    "collapsed": true
   },
   "outputs": [],
   "source": [
    "from splinter import Browser\n",
    "from bs4 import BeautifulSoup\n",
    "from sys import platform\n",
    "if platform == \"darwin\":\n",
    "    executable_path = {\"executable_path\": \"/usr/local/bin/chromedriver\"}\n",
    "else:\n",
    "    executable_path = {'executable_path': 'chromedriver.exe'}\n",
    "browser = Browser(\"chrome\", **executable_path, headless=False)"
   ]
  },
  {
   "cell_type": "code",
   "execution_count": null,
   "metadata": {
    "collapsed": true
   },
   "outputs": [],
   "source": [
    "#Nasa Mars News\n",
    "#Scrape the Nasa Mars News Site and collect the latest news title and paragraph text. \n",
    "#Assign the text to variables you can reference later"
   ]
  },
  {
   "cell_type": "code",
   "execution_count": 48,
   "metadata": {
    "collapsed": true
   },
   "outputs": [],
   "source": [
    "browser = Browser('chrome', headless=False)\n",
    "url = \"https://mars.nasa.gov/news/?page=0&per_page=40&order=publish_date+desc%2Ccreated_at+desc&search=&category=19%2C165%2C184%2C204%3A19&blank_scope=Latest\"\n",
    "browser.visit(url)"
   ]
  },
  {
   "cell_type": "code",
   "execution_count": 49,
   "metadata": {
    "collapsed": true
   },
   "outputs": [],
   "source": [
    "html = browser.html\n",
    "soup = BeautifulSoup(html, \"html.parser\")\n",
    "article_list = soup.find_all(\"li\", class_='slide')"
   ]
  },
  {
   "cell_type": "code",
   "execution_count": 50,
   "metadata": {},
   "outputs": [
    {
     "data": {
      "text/plain": [
       "[<li class=\"slide\"><div class=\"image_and_description_container\"><a href=\"/news/8317/witness-first-mars-launch-from-west-coast/\" target=\"_self\"><div class=\"rollover_description\"><div class=\"rollover_description_inner\">NASA invites digital creators to apply for social media credentials to cover the launch of the InSight mission to Mars, May 3-5, at California's Vandenberg Air Force Base.</div><div class=\"overlay_arrow\"><img alt=\"More\" src=\"/assets/overlay-arrow.png\"/></div></div><div class=\"list_image\"><img alt=\"Launch of LDCM from Vandenberg AFB, California\" src=\"/system/news_items/list_view_images/8317_list_image.jpg\"/></div><div class=\"bottom_gradient\"><div><h3>Witness First Mars Launch from West Coast</h3></div></div></a><div class=\"list_text\"><div class=\"list_date\">March 12, 2018</div><div class=\"content_title\"><a href=\"/news/8317/witness-first-mars-launch-from-west-coast/\" target=\"_self\">Witness First Mars Launch from West Coast</a></div><div class=\"article_teaser_body\">NASA invites digital creators to apply for social media credentials to cover the launch of the InSight mission to Mars, May 3-5, at California's Vandenberg Air Force Base.</div></div></div></li>,\n",
       " <li class=\"slide\"><div class=\"image_and_description_container\"><a href=\"/news/8315/nasa-insight-mission-to-mars-arrives-at-launch-site/\" target=\"_self\"><div class=\"rollover_description\"><div class=\"rollover_description_inner\">NASA's InSight spacecraft has arrived at Vandenberg Air Force Base in central California to begin final preparations for a launch this May.</div><div class=\"overlay_arrow\"><img alt=\"More\" src=\"/assets/overlay-arrow.png\"/></div></div><div class=\"list_image\"><img alt=\"crate being loaded into military transport plane\" src=\"/system/news_items/list_view_images/8315_list_image.jpg\"/></div><div class=\"bottom_gradient\"><div><h3>NASA InSight Mission to Mars Arrives at Launch Site</h3></div></div></a><div class=\"list_text\"><div class=\"list_date\">February 28, 2018</div><div class=\"content_title\"><a href=\"/news/8315/nasa-insight-mission-to-mars-arrives-at-launch-site/\" target=\"_self\">NASA InSight Mission to Mars Arrives at Launch Site</a></div><div class=\"article_teaser_body\">NASA's InSight spacecraft has arrived at Vandenberg Air Force Base in central California to begin final preparations for a launch this May.</div></div></div></li>,\n",
       " <li class=\"slide\"><div class=\"image_and_description_container\"><a href=\"/news/8312/nearly-a-decade-after-mars-phoenix-landed-another-look/\" target=\"_self\"><div class=\"rollover_description\"><div class=\"rollover_description_inner\">A recent view from Mars orbit of the site where NASA's Phoenix Mars mission landed on far-northern Mars nearly a decade ago captures changes.</div><div class=\"overlay_arrow\"><img alt=\"More\" src=\"/assets/overlay-arrow.png\"/></div></div><div class=\"list_image\"><img alt=\"animation of two alternating views of barren martian landscape\" src=\"/system/news_items/list_view_images/8312_PIA22223_320.jpg\"/></div><div class=\"bottom_gradient\"><div><h3>Nearly a Decade After Mars Phoenix Landed, Another Look</h3></div></div></a><div class=\"list_text\"><div class=\"list_date\">February 20, 2018</div><div class=\"content_title\"><a href=\"/news/8312/nearly-a-decade-after-mars-phoenix-landed-another-look/\" target=\"_self\">Nearly a Decade After Mars Phoenix Landed, Another Look</a></div><div class=\"article_teaser_body\">A recent view from Mars orbit of the site where NASA's Phoenix Mars mission landed on far-northern Mars nearly a decade ago captures changes.</div></div></div></li>,\n",
       " <li class=\"slide\"><div class=\"image_and_description_container\"><a href=\"/news/8311/spacecraft-exits-safe-mode/\" target=\"_self\"><div class=\"rollover_description\"><div class=\"rollover_description_inner\">Diagnostic work is the focus for resuming service and exiting safe standby status.</div><div class=\"overlay_arrow\"><img alt=\"More\" src=\"/assets/overlay-arrow.png\"/></div></div><div class=\"list_image\"><img alt=\"spacecraft high over martian surface\" src=\"/system/news_items/list_view_images/8311_PIA05490_320.jpg\"/></div><div class=\"bottom_gradient\"><div><h3>Spacecraft Exits Safe Mode</h3></div></div></a><div class=\"list_text\"><div class=\"list_date\">February 16, 2018</div><div class=\"content_title\"><a href=\"/news/8311/spacecraft-exits-safe-mode/\" target=\"_self\">Spacecraft Exits Safe Mode</a></div><div class=\"article_teaser_body\">Diagnostic work is the focus for resuming service and exiting safe standby status.</div></div></div></li>,\n",
       " <li class=\"slide\"><div class=\"image_and_description_container\"><a href=\"/news/8310/5000-days-on-mars-solar-powered-rover-approaching-5000th-martian-dawn/\" target=\"_self\"><div class=\"rollover_description\"><div class=\"rollover_description_inner\">The Sun will rise on NASA's solar-powered Mars rover Opportunity for the 5,000th time on Saturday, sending rays of energy to a robot that continues to provide revelations.</div><div class=\"overlay_arrow\"><img alt=\"More\" src=\"/assets/overlay-arrow.png\"/></div></div><div class=\"list_image\"><img alt=\"map of rugged slope\" src=\"/system/news_items/list_view_images/8310_pia22221_320.jpg\"/></div><div class=\"bottom_gradient\"><div><h3>5,000 Days on Mars; Solar-Powered Rover Approaching 5,000th Martian Dawn</h3></div></div></a><div class=\"list_text\"><div class=\"list_date\">February 15, 2018</div><div class=\"content_title\"><a href=\"/news/8310/5000-days-on-mars-solar-powered-rover-approaching-5000th-martian-dawn/\" target=\"_self\">5,000 Days on Mars; Solar-Powered Rover Approaching 5,000th Martian Dawn</a></div><div class=\"article_teaser_body\">The Sun will rise on NASA's solar-powered Mars rover Opportunity for the 5,000th time on Saturday, sending rays of energy to a robot that continues to provide revelations.</div></div></div></li>,\n",
       " <li class=\"slide\"><div class=\"image_and_description_container\"><a href=\"/news/8309/long-lived-mars-rover-opportunity-keeps-finding-surprises/\" target=\"_self\"><div class=\"rollover_description\"><div class=\"rollover_description_inner\">NASA's Mars Exploration Rover Opportunity keeps providing surprises about the Red Planet, most recently with observations of possible \"rock stripes.\"</div><div class=\"overlay_arrow\"><img alt=\"More\" src=\"/assets/overlay-arrow.png\"/></div></div><div class=\"list_image\"><img alt=\"rocky slope\" src=\"/system/news_items/list_view_images/8309_PIA22217_320.jpg\"/></div><div class=\"bottom_gradient\"><div><h3>Long-Lived Mars Rover Opportunity Keeps Finding Surprises</h3></div></div></a><div class=\"list_text\"><div class=\"list_date\">February 15, 2018</div><div class=\"content_title\"><a href=\"/news/8309/long-lived-mars-rover-opportunity-keeps-finding-surprises/\" target=\"_self\">Long-Lived Mars Rover Opportunity Keeps Finding Surprises</a></div><div class=\"article_teaser_body\">NASA's Mars Exploration Rover Opportunity keeps providing surprises about the Red Planet, most recently with observations of possible \"rock stripes.\"</div></div></div></li>,\n",
       " <li class=\"slide\"><div class=\"image_and_description_container\"><a href=\"/news/8308/a-piece-of-mars-is-going-home/\" target=\"_self\"><div class=\"rollover_description\"><div class=\"rollover_description_inner\">When it launches in 2020, NASA's next Mars rover will carry a chunk of Martian meteorite on board.</div><div class=\"overlay_arrow\"><img alt=\"More\" src=\"/assets/overlay-arrow.png\"/></div></div><div class=\"list_image\"><img alt=\"gloved hand holding rock\" src=\"/system/news_items/list_view_images/8308_PIA22245_320.JPG\"/></div><div class=\"bottom_gradient\"><div><h3>A Piece of Mars is Going Home</h3></div></div></a><div class=\"list_text\"><div class=\"list_date\">February 13, 2018</div><div class=\"content_title\"><a href=\"/news/8308/a-piece-of-mars-is-going-home/\" target=\"_self\">A Piece of Mars is Going Home</a></div><div class=\"article_teaser_body\">When it launches in 2020, NASA's next Mars rover will carry a chunk of Martian meteorite on board.</div></div></div></li>,\n",
       " <li class=\"slide\"><div class=\"image_and_description_container\"><a href=\"/news/8307/mars-reconnaissance-orbiter-preparing-for-years-ahead/\" target=\"_self\"><div class=\"rollover_description\"><div class=\"rollover_description_inner\">NASA's Mars Reconnaissance Orbiter (MRO) has begun extra stargazing to help the space agency accomplish advances in Mars exploration over the next decade.</div><div class=\"overlay_arrow\"><img alt=\"More\" src=\"/assets/overlay-arrow.png\"/></div></div><div class=\"list_image\"><img alt=\"spacecraft over mars\" src=\"/system/news_items/list_view_images/8307_pia05490_320.jpg\"/></div><div class=\"bottom_gradient\"><div><h3>Mars Reconnaissance Orbiter Preparing for Years Ahead</h3></div></div></a><div class=\"list_text\"><div class=\"list_date\">February  9, 2018</div><div class=\"content_title\"><a href=\"/news/8307/mars-reconnaissance-orbiter-preparing-for-years-ahead/\" target=\"_self\">Mars Reconnaissance Orbiter Preparing for Years Ahead</a></div><div class=\"article_teaser_body\">NASA's Mars Reconnaissance Orbiter (MRO) has begun extra stargazing to help the space agency accomplish advances in Mars exploration over the next decade.</div></div></div></li>,\n",
       " <li class=\"slide\"><div class=\"image_and_description_container\"><a href=\"/news/8305/tiny-crystal-shapes-get-close-look-from-mars-rover/\" target=\"_self\"><div class=\"rollover_description\"><div class=\"rollover_description_inner\">Star-shaped, tiny, dark bumps in the fine-layered bright bedrock of a Martian ridge are drawing close inspection by NASA's Curiosity Mars rover.</div><div class=\"overlay_arrow\"><img alt=\"More\" src=\"/assets/overlay-arrow.png\"/></div></div><div class=\"list_image\"><img alt=\"\" src=\"/system/news_items/list_view_images/8305_pia22213_320.jpg\"/></div><div class=\"bottom_gradient\"><div><h3>Tiny Crystal Shapes Get Close Look From Mars Rover</h3></div></div></a><div class=\"list_text\"><div class=\"list_date\">February  8, 2018</div><div class=\"content_title\"><a href=\"/news/8305/tiny-crystal-shapes-get-close-look-from-mars-rover/\" target=\"_self\">Tiny Crystal Shapes Get Close Look From Mars Rover</a></div><div class=\"article_teaser_body\">Star-shaped, tiny, dark bumps in the fine-layered bright bedrock of a Martian ridge are drawing close inspection by NASA's Curiosity Mars rover.</div></div></div></li>,\n",
       " <li class=\"slide\"><div class=\"image_and_description_container\"><a href=\"/news/8304/nasa-tests-atomic-clock-for-deep-space-navigation/\" target=\"_self\"><div class=\"rollover_description\"><div class=\"rollover_description_inner\">Project could help spacecraft keep time more efficiently and allow ground stations to better track multiple satellites at once near crowded areas like Mars.</div><div class=\"overlay_arrow\"><img alt=\"More\" src=\"/assets/overlay-arrow.png\"/></div></div><div class=\"list_image\"><img alt=\"spacecraft in earth orbit\" src=\"/system/news_items/list_view_images/8304_dsac20180206_320.jpg\"/></div><div class=\"bottom_gradient\"><div><h3>NASA Tests Atomic Clock for Deep Space Navigation</h3></div></div></a><div class=\"list_text\"><div class=\"list_date\">February  6, 2018</div><div class=\"content_title\"><a href=\"/news/8304/nasa-tests-atomic-clock-for-deep-space-navigation/\" target=\"_self\">NASA Tests Atomic Clock for Deep Space Navigation</a></div><div class=\"article_teaser_body\">Project could help spacecraft keep time more efficiently and allow ground stations to better track multiple satellites at once near crowded areas like Mars.</div></div></div></li>,\n",
       " <li class=\"slide\"><div class=\"image_and_description_container\"><a href=\"/news/8303/mount-sharp-photobombs-mars-curiosity-rover/\" target=\"_self\"><div class=\"rollover_description\"><div class=\"rollover_description_inner\">A new self-portrait of NASA's Curiosity Mars rover shows the vehicle on Vera Rubin Ridge.</div><div class=\"overlay_arrow\"><img alt=\"More\" src=\"/assets/overlay-arrow.png\"/></div></div><div class=\"list_image\"><img alt=\"rover on surface of mars\" src=\"/system/news_items/list_view_images/8303_pia22207_320.jpg\"/></div><div class=\"bottom_gradient\"><div><h3>Mount Sharp 'Photobombs' Mars Curiosity Rover</h3></div></div></a><div class=\"list_text\"><div class=\"list_date\">January 31, 2018</div><div class=\"content_title\"><a href=\"/news/8303/mount-sharp-photobombs-mars-curiosity-rover/\" target=\"_self\">Mount Sharp 'Photobombs' Mars Curiosity Rover</a></div><div class=\"article_teaser_body\">A new self-portrait of NASA's Curiosity Mars rover shows the vehicle on Vera Rubin Ridge.</div></div></div></li>,\n",
       " <li class=\"slide\"><div class=\"image_and_description_container\"><a href=\"/news/8299/dust-storms-linked-to-gas-escape-from-mars-atmosphere/\" target=\"_self\"><div class=\"rollover_description\"><div class=\"rollover_description_inner\">If Mars has a global dust storm in 2018, observations could aid understanding of its effects.</div><div class=\"overlay_arrow\"><img alt=\"More\" src=\"/assets/overlay-arrow.png\"/></div></div><div class=\"list_image\"><img alt=\"two global views of Mars, one clear, one hazy\" src=\"/system/news_items/list_view_images/8299_PIA03170_320.jpg\"/></div><div class=\"bottom_gradient\"><div><h3>Dust Storms Linked to Gas Escape from Mars Atmosphere</h3></div></div></a><div class=\"list_text\"><div class=\"list_date\">January 23, 2018</div><div class=\"content_title\"><a href=\"/news/8299/dust-storms-linked-to-gas-escape-from-mars-atmosphere/\" target=\"_self\">Dust Storms Linked to Gas Escape from Mars Atmosphere</a></div><div class=\"article_teaser_body\">If Mars has a global dust storm in 2018, observations could aid understanding of its effects.</div></div></div></li>,\n",
       " <li class=\"slide\"><div class=\"image_and_description_container\"><a href=\"/news/8298/steep-slopes-on-mars-reveal-structure-of-buried-ice/\" target=\"_self\"><div class=\"rollover_description\"><div class=\"rollover_description_inner\">Researchers using NASA's Mars Reconnaissance Orbiter have found eight sites where thick deposits of ice beneath Mars' surface are exposed.</div><div class=\"overlay_arrow\"><img alt=\"More\" src=\"/assets/overlay-arrow.png\"/></div></div><div class=\"list_image\"><img alt=\"exposed ice layers\" src=\"/system/news_items/list_view_images/8298_PIA22077_320.jpg\"/></div><div class=\"bottom_gradient\"><div><h3>Steep Slopes on Mars Reveal Structure of Buried Ice</h3></div></div></a><div class=\"list_text\"><div class=\"list_date\">January 11, 2018</div><div class=\"content_title\"><a href=\"/news/8298/steep-slopes-on-mars-reveal-structure-of-buried-ice/\" target=\"_self\">Steep Slopes on Mars Reveal Structure of Buried Ice</a></div><div class=\"article_teaser_body\">Researchers using NASA's Mars Reconnaissance Orbiter have found eight sites where thick deposits of ice beneath Mars' surface are exposed.</div></div></div></li>,\n",
       " <li class=\"slide\"><div class=\"image_and_description_container\"><a href=\"/news/8291/nasa-mars-rover-teams-tilted-winter-strategy-works/\" target=\"_self\"><div class=\"rollover_description\"><div class=\"rollover_description_inner\">NASA's senior Mars rover, Opportunity, has just passed the shortest-daylight weeks of the long Martian year with its solar panels in encouragingly clean condition for entering a potential dust-storm season in 2018.\n",
       " \n",
       " </div><div class=\"overlay_arrow\"><img alt=\"More\" src=\"/assets/overlay-arrow.png\"/></div></div><div class=\"list_image\"><img alt=\"&quot;Perseverance Valley,&quot; on the rim of Endurance Crater, includes wheel tracks from the Opportunity Mars rover's descent of the valley to investigate its origin. The rover's Pancam took component images in September and October of 2017 for this approximately true-color scene.\n",
       " Credits: NASA/JPL-Caltech/Cornell Univ./Arizona State Univ.\n",
       " \" src=\"/system/news_items/list_view_images/8291_PIA22073_Sols4840B-4871B_East_Mosaic_320x240.jpg\"/></div><div class=\"bottom_gradient\"><div><h3>NASA Mars Rover Team's Tilted Winter Strategy Works</h3></div></div></a><div class=\"list_text\"><div class=\"list_date\">December  6, 2017</div><div class=\"content_title\"><a href=\"/news/8291/nasa-mars-rover-teams-tilted-winter-strategy-works/\" target=\"_self\">NASA Mars Rover Team's Tilted Winter Strategy Works</a></div><div class=\"article_teaser_body\">NASA's senior Mars rover, Opportunity, has just passed the shortest-daylight weeks of the long Martian year with its solar panels in encouragingly clean condition for entering a potential dust-storm season in 2018.\n",
       " \n",
       " </div></div></div></li>,\n",
       " <li class=\"slide\"><div class=\"image_and_description_container\"><a href=\"/news/8290/nasa-builds-its-next-mars-rover-mission/\" target=\"_self\"><div class=\"rollover_description\"><div class=\"rollover_description_inner\">In just a few years, NASA's next Mars rover mission will be flying to the Red Planet.</div><div class=\"overlay_arrow\"><img alt=\"More\" src=\"/assets/overlay-arrow.png\"/></div></div><div class=\"list_image\"><img alt=\"This artist's rendition depicts NASA's Mars 2020 rover studying a Mars rock outrcrop. \" src=\"/system/news_items/list_view_images/8290_21377_PIA22105-min320.jpeg\"/></div><div class=\"bottom_gradient\"><div><h3>NASA Builds Its Next Mars Rover Mission</h3></div></div></a><div class=\"list_text\"><div class=\"list_date\">November 28, 2017</div><div class=\"content_title\"><a href=\"/news/8290/nasa-builds-its-next-mars-rover-mission/\" target=\"_self\">NASA Builds Its Next Mars Rover Mission</a></div><div class=\"article_teaser_body\">In just a few years, NASA's next Mars rover mission will be flying to the Red Planet.</div></div></div></li>,\n",
       " <li class=\"slide\"><div class=\"image_and_description_container\"><a href=\"/news/8289/recurring-martian-streaks-flowing-sand-not-water/\" target=\"_self\"><div class=\"rollover_description\"><div class=\"rollover_description_inner\">Seasonal dark streaks on Mars that previously were described as possible signs of flowing water have steep slopes that are better matches to dry flow processes...</div><div class=\"overlay_arrow\"><img alt=\"More\" src=\"/assets/overlay-arrow.png\"/></div></div><div class=\"list_image\"><img alt=\"Image of Martian surface in black and white.\" src=\"/system/news_items/list_view_images/8289_Mars320.jpg\"/></div><div class=\"bottom_gradient\"><div><h3>Recurring Martian Streaks: Flowing Sand, Not Water?</h3></div></div></a><div class=\"list_text\"><div class=\"list_date\">November 20, 2017</div><div class=\"content_title\"><a href=\"/news/8289/recurring-martian-streaks-flowing-sand-not-water/\" target=\"_self\">Recurring Martian Streaks: Flowing Sand, Not Water?</a></div><div class=\"article_teaser_body\">Seasonal dark streaks on Mars that previously were described as possible signs of flowing water have steep slopes that are better matches to dry flow processes...</div></div></div></li>,\n",
       " <li class=\"slide\"><div class=\"image_and_description_container\"><a href=\"/news/8286/martian-ridge-brings-out-rovers-color-talents/\" target=\"_self\"><div class=\"rollover_description\"><div class=\"rollover_description_inner\">On a part of \"Vera Rubin Ridge\" where rover-team researchers sought to determine whether dust coatings are hiding rocks' hematite content, the Mast Camera (Mastcam) on NASA's Curiosity Mars rover took this image of a rock surface that had been brushed with the rover's Dust Removal Tool.</div><div class=\"overlay_arrow\"><img alt=\"More\" src=\"/assets/overlay-arrow.png\"/></div></div><div class=\"list_image\"><img alt=\"This pair of images from the Mast Camera (Mastcam) on NASA's Curiosity rover illustrates how special filters are used to scout terrain ahead for variations in the local bedrock. (Credits: NASA/JPL-Caltech/MSSS/ASU)\" src=\"/system/news_items/list_view_images/8286_pia22065-226_320x240.jpg\"/></div><div class=\"bottom_gradient\"><div><h3>Martian Ridge Brings Out Rover's Color Talents</h3></div></div></a><div class=\"list_text\"><div class=\"list_date\">November  1, 2017</div><div class=\"content_title\"><a href=\"/news/8286/martian-ridge-brings-out-rovers-color-talents/\" target=\"_self\">Martian Ridge Brings Out Rover's Color Talents</a></div><div class=\"article_teaser_body\">On a part of \"Vera Rubin Ridge\" where rover-team researchers sought to determine whether dust coatings are hiding rocks' hematite content, the Mast Camera (Mastcam) on NASA's Curiosity Mars rover took this image of a rock surface that had been brushed with the rover's Dust Removal Tool.</div></div></div></li>,\n",
       " <li class=\"slide\"><div class=\"image_and_description_container\"><a href=\"/news/8285/next-mars-rover-will-have-23-eyes/\" target=\"_self\"><div class=\"rollover_description\"><div class=\"rollover_description_inner\">When NASA's Mars Pathfinder touched down in 1997, it had five cameras: two on a mast that popped up from the lander, and three on NASA's first rover, Sojourner.</div><div class=\"overlay_arrow\"><img alt=\"More\" src=\"/assets/overlay-arrow.png\"/></div></div><div class=\"list_image\"><img alt=\"A selection of the 23 cameras on NASA's 2020 Mars rover. Many are improved versions of the cameras on the Curiosity rover, with a few new additions as well. UPDATED AT 4:15 p.m. PDT to correct the number of EDL cameras shown in the image.\" src=\"/system/news_items/list_view_images/8285_cameras_2.jpg\"/></div><div class=\"bottom_gradient\"><div><h3>Next Mars Rover Will Have 23 'Eyes'</h3></div></div></a><div class=\"list_text\"><div class=\"list_date\">October 31, 2017</div><div class=\"content_title\"><a href=\"/news/8285/next-mars-rover-will-have-23-eyes/\" target=\"_self\">Next Mars Rover Will Have 23 'Eyes'</a></div><div class=\"article_teaser_body\">When NASA's Mars Pathfinder touched down in 1997, it had five cameras: two on a mast that popped up from the lander, and three on NASA's first rover, Sojourner.</div></div></div></li>,\n",
       " <li class=\"slide\"><div class=\"image_and_description_container\"><a href=\"/news/8284/mars-rover-mission-progresses-toward-resumed-drilling/\" target=\"_self\"><div class=\"rollover_description\"><div class=\"rollover_description_inner\">NASA's Mars rover Curiosity team is working to restore Curiosity's sample-drilling capability using new techniques. The latest development is a preparatory test on Mars.</div><div class=\"overlay_arrow\"><img alt=\"More\" src=\"/assets/overlay-arrow.png\"/></div></div><div class=\"list_image\"><img alt=\"NASA's Curiosity Mars rover conducted a test on Oct. 17, 2017, as part of the rover team's development of a new way to use the rover's drill. (Credit: NASA/JPL-Caltech)\" src=\"/system/news_items/list_view_images/8284_PIA22063-MAIN_Fhaz-Sol-1848-brtn-shdws_320x240.jpg\"/></div><div class=\"bottom_gradient\"><div><h3>Mars Rover Mission Progresses Toward Resumed Drilling</h3></div></div></a><div class=\"list_text\"><div class=\"list_date\">October 23, 2017</div><div class=\"content_title\"><a href=\"/news/8284/mars-rover-mission-progresses-toward-resumed-drilling/\" target=\"_self\">Mars Rover Mission Progresses Toward Resumed Drilling</a></div><div class=\"article_teaser_body\">NASA's Mars rover Curiosity team is working to restore Curiosity's sample-drilling capability using new techniques. The latest development is a preparatory test on Mars.</div></div></div></li>,\n",
       " <li class=\"slide\"><div class=\"image_and_description_container\"><a href=\"/news/8283/take-a-walk-on-mars-in-your-own-living-room/\" target=\"_self\"><div class=\"rollover_description\"><div class=\"rollover_description_inner\">When NASA scientists want to follow the path of the Curiosity rover on Mars, they can don a mixed-reality headset and virtually explore the Martian landscape.</div><div class=\"overlay_arrow\"><img alt=\"More\" src=\"/assets/overlay-arrow.png\"/></div></div><div class=\"list_image\"><img alt=\"Access Mars allows any member of the public to explore the discoveries of NASA's Curiosity rover. (Image Credit: NASA/JPL-Caltech)\" src=\"/system/news_items/list_view_images/8283_Access_320x240.gif\"/></div><div class=\"bottom_gradient\"><div><h3>Take a Walk on Mars -- in Your Own Living Room</h3></div></div></a><div class=\"list_text\"><div class=\"list_date\">October 19, 2017</div><div class=\"content_title\"><a href=\"/news/8283/take-a-walk-on-mars-in-your-own-living-room/\" target=\"_self\">Take a Walk on Mars -- in Your Own Living Room</a></div><div class=\"article_teaser_body\">When NASA scientists want to follow the path of the Curiosity rover on Mars, they can don a mixed-reality headset and virtually explore the Martian landscape.</div></div></div></li>,\n",
       " <li class=\"slide\"><div class=\"image_and_description_container\"><a href=\"/news/8282/nasas-maven-mission-finds-mars-has-a-twisted-tail/\" target=\"_self\"><div class=\"rollover_description\"><div class=\"rollover_description_inner\">Mars has an invisible magnetic “tail” that is twisted by interaction with the solar wind, according to new research using data from NASA’s MAVEN spacecraft. </div><div class=\"overlay_arrow\"><img alt=\"More\" src=\"/assets/overlay-arrow.png\"/></div></div><div class=\"list_image\"><img alt=\"Artist's conception of the complex magnetic field environment at Mars. \" src=\"/system/news_items/list_view_images/8282_mars-twisted-tail.320x240jpg\"/></div><div class=\"bottom_gradient\"><div><h3>NASA’s MAVEN Mission Finds Mars Has a Twisted Tail</h3></div></div></a><div class=\"list_text\"><div class=\"list_date\">October 19, 2017</div><div class=\"content_title\"><a href=\"/news/8282/nasas-maven-mission-finds-mars-has-a-twisted-tail/\" target=\"_self\">NASA’s MAVEN Mission Finds Mars Has a Twisted Tail</a></div><div class=\"article_teaser_body\">Mars has an invisible magnetic “tail” that is twisted by interaction with the solar wind, according to new research using data from NASA’s MAVEN spacecraft. </div></div></div></li>,\n",
       " <li class=\"slide\"><div class=\"image_and_description_container\"><a href=\"/news/8281/mars-study-yields-clues-to-possible-cradle-of-life/\" target=\"_self\"><div class=\"rollover_description\"><div class=\"rollover_description_inner\">The discovery of evidence for ancient sea-floor hydrothermal deposits on Mars identifies an area on the planet that may offer clues about the origin of life on Earth.</div><div class=\"overlay_arrow\"><img alt=\"More\" src=\"/assets/overlay-arrow.png\"/></div></div><div class=\"list_image\"><img alt=\"This view of a portion of the Eridania region of Mars shows blocks of deep-basin deposits that have been surrounded and partially buried by younger volcanic deposits. The image was taken by the Context Camera on NASA's Mars Reconnaissance Orbiter and covers an area about 12 miles wide.\" src=\"/system/news_items/list_view_images/8281_PIA22058-MAIN_CTX_Eridania320x240.jpg\"/></div><div class=\"bottom_gradient\"><div><h3>Mars Study Yields Clues to Possible Cradle of Life</h3></div></div></a><div class=\"list_text\"><div class=\"list_date\">October  6, 2017</div><div class=\"content_title\"><a href=\"/news/8281/mars-study-yields-clues-to-possible-cradle-of-life/\" target=\"_self\">Mars Study Yields Clues to Possible Cradle of Life</a></div><div class=\"article_teaser_body\">The discovery of evidence for ancient sea-floor hydrothermal deposits on Mars identifies an area on the planet that may offer clues about the origin of life on Earth.</div></div></div></li>,\n",
       " <li class=\"slide\"><div class=\"image_and_description_container\"><a href=\"/news/8280/examining-mars-moon-phobos-in-a-different-light/\" target=\"_self\"><div class=\"rollover_description\"><div class=\"rollover_description_inner\">NASA's longest-lived mission to Mars has gained its first look at the Martian moon Phobos, pursuing a deeper understanding by examining it in infrared wavelengths.</div><div class=\"overlay_arrow\"><img alt=\"More\" src=\"/assets/overlay-arrow.png\"/></div></div><div class=\"list_image\"><img alt=\"This image combines two products from the first pointing at the Martian moon Phobos by the THEMIS camera on NASA's Mars Odyssey orbiter, on Sept. 29, 2017. Surface-temperature information from observation in thermal-infrared wavelengths is overlaid on a more detailed image from a visible-light observation. \" src=\"/system/news_items/list_view_images/8280_PIA22057-MAIN_phobos_vis_v5_f14_rotate180_IR_overlay_320x240.jpg\"/></div><div class=\"bottom_gradient\"><div><h3>Examining Mars' Moon Phobos in a Different Light</h3></div></div></a><div class=\"list_text\"><div class=\"list_date\">October  4, 2017</div><div class=\"content_title\"><a href=\"/news/8280/examining-mars-moon-phobos-in-a-different-light/\" target=\"_self\">Examining Mars' Moon Phobos in a Different Light</a></div><div class=\"article_teaser_body\">NASA's longest-lived mission to Mars has gained its first look at the Martian moon Phobos, pursuing a deeper understanding by examining it in infrared wavelengths.</div></div></div></li>,\n",
       " <li class=\"slide\"><div class=\"image_and_description_container\"><a href=\"/news/8277/large-solar-storm-sparks-global-aurora-and-doubles-radiation-levels-on-the-martian-surface/\" target=\"_self\"><div class=\"rollover_description\"><div class=\"rollover_description_inner\">An unexpectedly strong blast from the Sun hit Mars in September, observed by NASA missions in orbit and on the surface.</div><div class=\"overlay_arrow\"><img alt=\"More\" src=\"/assets/overlay-arrow.png\"/></div></div><div class=\"list_image\"><img alt=\"Solar Storm Triggers Whole-Planet Aurora at Mars\" src=\"/system/news_items/list_view_images/8277_PIA2184-MAING_Aurora2_320x.gif\"/></div><div class=\"bottom_gradient\"><div><h3>Large Solar Storm Sparks Global Aurora and Doubles Radiation Levels on the Martian Surface</h3></div></div></a><div class=\"list_text\"><div class=\"list_date\">September 29, 2017</div><div class=\"content_title\"><a href=\"/news/8277/large-solar-storm-sparks-global-aurora-and-doubles-radiation-levels-on-the-martian-surface/\" target=\"_self\">Large Solar Storm Sparks Global Aurora and Doubles Radiation Levels on the Martian Surface</a></div><div class=\"article_teaser_body\">An unexpectedly strong blast from the Sun hit Mars in September, observed by NASA missions in orbit and on the surface.</div></div></div></li>,\n",
       " <li class=\"slide\"><div class=\"image_and_description_container\"><a href=\"/news/8276/a-fresh-look-at-older-data-yields-a-surprise-near-the-martian-equator/\" target=\"_self\"><div class=\"rollover_description\"><div class=\"rollover_description_inner\">Scientists taking a new look at older data from NASA's longest-operating Mars orbiter have discovered evidence of significant hydration near the Martian equator -- a mysterious signature in a region of the Red Planet where planetary scientists figure ice shouldn't exist.</div><div class=\"overlay_arrow\"><img alt=\"More\" src=\"/assets/overlay-arrow.png\"/></div></div><div class=\"list_image\"><img alt=\"A Closer Hubble Encounter With Mars - Tharsis\" src=\"/system/news_items/list_view_images/8276_PIA01590_hubble320x240.jpg\"/></div><div class=\"bottom_gradient\"><div><h3>A Fresh Look at Older Data Yields a Surprise Near the Martian Equator</h3></div></div></a><div class=\"list_text\"><div class=\"list_date\">September 28, 2017</div><div class=\"content_title\"><a href=\"/news/8276/a-fresh-look-at-older-data-yields-a-surprise-near-the-martian-equator/\" target=\"_self\">A Fresh Look at Older Data Yields a Surprise Near the Martian Equator</a></div><div class=\"article_teaser_body\">Scientists taking a new look at older data from NASA's longest-operating Mars orbiter have discovered evidence of significant hydration near the Martian equator -- a mysterious signature in a region of the Red Planet where planetary scientists figure ice shouldn't exist.</div></div></div></li>,\n",
       " <li class=\"slide\"><div class=\"image_and_description_container\"><a href=\"/news/2943/nasas-curiosity-mars-rover-climbing-toward-ridge-top/\" target=\"_self\"><div class=\"rollover_description\"><div class=\"rollover_description_inner\">NASA's Mars rover Curiosity has begun the steep ascent of an iron-oxide-bearing ridge that's grabbed scientists' attention since before the car-sized rover's 2012 landing.</div><div class=\"overlay_arrow\"><img alt=\"More\" src=\"/assets/overlay-arrow.png\"/></div></div><div class=\"list_image\"><img alt=\"\" src=\"/system/news_items/list_view_images/2943_pia21850-1785MR009211_sitesphericalmosaic_noscale-thmfeat.jpg\"/></div><div class=\"bottom_gradient\"><div><h3>NASA's Curiosity Mars Rover Climbing Toward Ridge Top</h3></div></div></a><div class=\"list_text\"><div class=\"list_date\">September 13, 2017</div><div class=\"content_title\"><a href=\"/news/2943/nasas-curiosity-mars-rover-climbing-toward-ridge-top/\" target=\"_self\">NASA's Curiosity Mars Rover Climbing Toward Ridge Top</a></div><div class=\"article_teaser_body\">NASA's Mars rover Curiosity has begun the steep ascent of an iron-oxide-bearing ridge that's grabbed scientists' attention since before the car-sized rover's 2012 landing.</div></div></div></li>,\n",
       " <li class=\"slide\"><div class=\"image_and_description_container\"><a href=\"/news/2907/nasas-hubble-sees-martian-moon-orbiting-the-red-planet/\" target=\"_self\"><div class=\"rollover_description\"><div class=\"rollover_description_inner\">The sharp eye of NASA's Hubble Space Telescope has captured the tiny moon Phobos during its orbital trek around Mars. Because the moon is so small, it appears star-like in the Hubble pictures.</div><div class=\"overlay_arrow\"><img alt=\"More\" src=\"/assets/overlay-arrow.png\"/></div></div><div class=\"list_image\"><img alt=\"\" src=\"/system/news_items/list_view_images/2907_8823_animated-nasa-hubble-martian-moon-orbiting-mars-full2.gif\"/></div><div class=\"bottom_gradient\"><div><h3>NASA's Hubble Sees Martian Moon Orbiting the Red Planet</h3></div></div></a><div class=\"list_text\"><div class=\"list_date\">July 20, 2017</div><div class=\"content_title\"><a href=\"/news/2907/nasas-hubble-sees-martian-moon-orbiting-the-red-planet/\" target=\"_self\">NASA's Hubble Sees Martian Moon Orbiting the Red Planet</a></div><div class=\"article_teaser_body\">The sharp eye of NASA's Hubble Space Telescope has captured the tiny moon Phobos during its orbital trek around Mars. Because the moon is so small, it appears star-like in the Hubble pictures.</div></div></div></li>,\n",
       " <li class=\"slide\"><div class=\"image_and_description_container\"><a href=\"/news/2872/nasa-finds-evidence-of-diverse-environments-in-curiosity-samples/\" target=\"_self\"><div class=\"rollover_description\"><div class=\"rollover_description_inner\">NASA has found diverse minerals in rocks examined by the Curiosity rover on lower Mount Sharp, Mars. These suggest that wet environmental conditions there changed over time.</div><div class=\"overlay_arrow\"><img alt=\"More\" src=\"/assets/overlay-arrow.png\"/></div></div><div class=\"list_image\"><img src=\"/system/news_items/list_view_images/2872_PIA21709_pahrump_stops_rampe-thmfeat.jpg\"/></div><div class=\"bottom_gradient\"><div><h3>NASA Finds Evidence of Diverse Environments in Curiosity Samples</h3></div></div></a><div class=\"list_text\"><div class=\"list_date\">June  9, 2017</div><div class=\"content_title\"><a href=\"/news/2872/nasa-finds-evidence-of-diverse-environments-in-curiosity-samples/\" target=\"_self\">NASA Finds Evidence of Diverse Environments in Curiosity Samples</a></div><div class=\"article_teaser_body\">NASA has found diverse minerals in rocks examined by the Curiosity rover on lower Mount Sharp, Mars. These suggest that wet environmental conditions there changed over time.</div></div></div></li>,\n",
       " <li class=\"slide\"><div class=\"image_and_description_container\"><a href=\"/news/2863/curiosity-peels-back-layers-on-ancient-martian-lake/\" target=\"_self\"><div class=\"rollover_description\"><div class=\"rollover_description_inner\">A long-lasting lake on ancient Mars provided stable  environmental conditions that differed significantly from one part of the lake  to another, according to a comprehensive look at findings from the first  three-and-a-half years of NASA's Curiosity rover mission.</div><div class=\"overlay_arrow\"><img alt=\"More\" src=\"/assets/overlay-arrow.png\"/></div></div><div class=\"list_image\"><img src=\"/system/news_items/list_view_images/2863_mars-curiosity-rover-mastcam-sedimentary-deposit-lakebed-rocks-pia19074-thmfeat.jpg\"/></div><div class=\"bottom_gradient\"><div><h3>Curiosity Peels Back Layers on Ancient Martian Lake</h3></div></div></a><div class=\"list_text\"><div class=\"list_date\">June  1, 2017</div><div class=\"content_title\"><a href=\"/news/2863/curiosity-peels-back-layers-on-ancient-martian-lake/\" target=\"_self\">Curiosity Peels Back Layers on Ancient Martian Lake</a></div><div class=\"article_teaser_body\">A long-lasting lake on ancient Mars provided stable  environmental conditions that differed significantly from one part of the lake  to another, according to a comprehensive look at findings from the first  three-and-a-half years of NASA's Curiosity rover mission.</div></div></div></li>,\n",
       " <li class=\"slide\"><div class=\"image_and_description_container\"><a href=\"/news/2860/high-silica-halos-shed-light-on-wet-ancient-mars/\" target=\"_self\"><div class=\"rollover_description\"><div class=\"rollover_description_inner\">Pale \"halos\" around  fractures in bedrock analyzed by NASA's Curiosity Mars rover contain copious  silica, indicating that ancient Mars had liquid water for a long time.</div><div class=\"overlay_arrow\"><img alt=\"More\" src=\"/assets/overlay-arrow.png\"/></div></div><div class=\"list_image\"><img src=\"/system/news_items/list_view_images/2860_MSL-Curiosity-Discolored-Fracture-Zones-in-Martian-Sandstone-PIA21649-thmfeat.jpg\"/></div><div class=\"bottom_gradient\"><div><h3>High-Silica 'Halos' Shed Light on Wet Ancient Mars</h3></div></div></a><div class=\"list_text\"><div class=\"list_date\">May 30, 2017</div><div class=\"content_title\"><a href=\"/news/2860/high-silica-halos-shed-light-on-wet-ancient-mars/\" target=\"_self\">High-Silica 'Halos' Shed Light on Wet Ancient Mars</a></div><div class=\"article_teaser_body\">Pale \"halos\" around  fractures in bedrock analyzed by NASA's Curiosity Mars rover contain copious  silica, indicating that ancient Mars had liquid water for a long time.</div></div></div></li>,\n",
       " <li class=\"slide\"><div class=\"image_and_description_container\"><a href=\"/news/2717/new-look-at-2004s-martian-hole-in-one-site/\" target=\"_self\"><div class=\"rollover_description\"><div class=\"rollover_description_inner\">A new  observation from NASA's Mars Reconnaissance Orbiter (MRO) captures the landing  platform that the rover Opportunity left behind in Eagle Crater more than 13  years and 27 miles (or 44 kilometers) ago.</div><div class=\"overlay_arrow\"><img alt=\"More\" src=\"/assets/overlay-arrow.png\"/></div></div><div class=\"list_image\"><img src=\"/system/news_items/list_view_images/2717_mars-eagle-crater-ESP_050177_1780-pia21494-thmfeat.jpg\"/></div><div class=\"bottom_gradient\"><div><h3>New Look at 2004's Martian Hole-in-One  Site</h3></div></div></a><div class=\"list_text\"><div class=\"list_date\">April 21, 2017</div><div class=\"content_title\"><a href=\"/news/2717/new-look-at-2004s-martian-hole-in-one-site/\" target=\"_self\">New Look at 2004's Martian Hole-in-One  Site</a></div><div class=\"article_teaser_body\">A new  observation from NASA's Mars Reconnaissance Orbiter (MRO) captures the landing  platform that the rover Opportunity left behind in Eagle Crater more than 13  years and 27 miles (or 44 kilometers) ago.</div></div></div></li>,\n",
       " <li class=\"slide\"><div class=\"image_and_description_container\"><a href=\"/news/1977/nasas-maven-reveals-mars-has-metal-in-its-atmosphere/\" target=\"_self\"><div class=\"rollover_description\"><div class=\"rollover_description_inner\">Mars has electrically charged metal atoms (ions) high in its atmosphere, according to new results from NASA's MAVEN spacecraft.</div><div class=\"overlay_arrow\"><img alt=\"More\" src=\"/assets/overlay-arrow.png\"/></div></div><div class=\"list_image\"><img src=\"/system/news_items/list_view_images/1977_mars-limb-maven-orbiter-spacecraft-thmfeat.jpg\"/></div><div class=\"bottom_gradient\"><div><h3>NASA's MAVEN Reveals Mars Has Metal in its Atmosphere</h3></div></div></a><div class=\"list_text\"><div class=\"list_date\">April 10, 2017</div><div class=\"content_title\"><a href=\"/news/1977/nasas-maven-reveals-mars-has-metal-in-its-atmosphere/\" target=\"_self\">NASA's MAVEN Reveals Mars Has Metal in its Atmosphere</a></div><div class=\"article_teaser_body\">Mars has electrically charged metal atoms (ions) high in its atmosphere, according to new results from NASA's MAVEN spacecraft.</div></div></div></li>,\n",
       " <li class=\"slide\"><div class=\"image_and_description_container\"><a href=\"/news/1976/nasas-maven-reveals-most-of-mars-atmosphere-was-lost-to-space/\" target=\"_self\"><div class=\"rollover_description\"><div class=\"rollover_description_inner\">Solar wind and radiation are responsible for stripping the Martian atmosphere, transforming Mars from a planet that could have supported life billions of years ago into a frigid desert world, according to new results from NASA's MAVEN spacecraft.</div><div class=\"overlay_arrow\"><img alt=\"More\" src=\"/assets/overlay-arrow.png\"/></div></div><div class=\"list_image\"><img src=\"/system/news_items/list_view_images/1976_mars_landscape_dry_wet1-thmfeat.png\"/></div><div class=\"bottom_gradient\"><div><h3>NASA's MAVEN Reveals Most of Mars' Atmosphere Was Lost to Space</h3></div></div></a><div class=\"list_text\"><div class=\"list_date\">March 30, 2017</div><div class=\"content_title\"><a href=\"/news/1976/nasas-maven-reveals-most-of-mars-atmosphere-was-lost-to-space/\" target=\"_self\">NASA's MAVEN Reveals Most of Mars' Atmosphere Was Lost to Space</a></div><div class=\"article_teaser_body\">Solar wind and radiation are responsible for stripping the Martian atmosphere, transforming Mars from a planet that could have supported life billions of years ago into a frigid desert world, according to new results from NASA's MAVEN spacecraft.</div></div></div></li>,\n",
       " <li class=\"slide\"><div class=\"image_and_description_container\"><a href=\"/news/1975/prolific-mars-orbiter-completes-50000-orbits/\" target=\"_self\"><div class=\"rollover_description\"><div class=\"rollover_description_inner\">The most data-productive spacecraft yet at Mars swept past its 50,000th orbit this week, continuing to compile the most sharp-eyed global coverage ever accomplished by a camera at the Red Planet.</div><div class=\"overlay_arrow\"><img alt=\"More\" src=\"/assets/overlay-arrow.png\"/></div></div><div class=\"list_image\"><img alt=\"\" src=\"/system/news_items/list_view_images/1975_mars-map-ctx-global-animated-pia21487-thmfeat.gif\"/></div><div class=\"bottom_gradient\"><div><h3>Prolific Mars Orbiter Completes 50,000 Orbits</h3></div></div></a><div class=\"list_text\"><div class=\"list_date\">March 29, 2017</div><div class=\"content_title\"><a href=\"/news/1975/prolific-mars-orbiter-completes-50000-orbits/\" target=\"_self\">Prolific Mars Orbiter Completes 50,000 Orbits</a></div><div class=\"article_teaser_body\">The most data-productive spacecraft yet at Mars swept past its 50,000th orbit this week, continuing to compile the most sharp-eyed global coverage ever accomplished by a camera at the Red Planet.</div></div></div></li>,\n",
       " <li class=\"slide\"><div class=\"image_and_description_container\"><a href=\"/news/1974/mars-rover-leader-peter-theisinger-to-receive-national-trophy/\" target=\"_self\"><div class=\"rollover_description\"><div class=\"rollover_description_inner\">Peter Theisinger, who led projects that developed multiple NASA rovers that successfully landed on Mars, will receive a National Air and Space Museum Lifetime Achievement Trophy.</div><div class=\"overlay_arrow\"><img alt=\"More\" src=\"/assets/overlay-arrow.png\"/></div></div><div class=\"list_image\"><img src=\"/system/news_items/list_view_images/1974_national-air-space-museum-award-peter-theisinger-thmfeat.jpg\"/></div><div class=\"bottom_gradient\"><div><h3>Mars Rover Leader Peter Theisinger to Receive National Trophy</h3></div></div></a><div class=\"list_text\"><div class=\"list_date\">March 28, 2017</div><div class=\"content_title\"><a href=\"/news/1974/mars-rover-leader-peter-theisinger-to-receive-national-trophy/\" target=\"_self\">Mars Rover Leader Peter Theisinger to Receive National Trophy</a></div><div class=\"article_teaser_body\">Peter Theisinger, who led projects that developed multiple NASA rovers that successfully landed on Mars, will receive a National Air and Space Museum Lifetime Achievement Trophy.</div></div></div></li>,\n",
       " <li class=\"slide\"><div class=\"image_and_description_container\"><a href=\"/news/1972/mars-volcano-earths-dinosaurs-went-extinct-about-the-same-time/\" target=\"_self\"><div class=\"rollover_description\"><div class=\"rollover_description_inner\">New NASA research reveals that the giant Martian volcano Arsia Mons produced one new lava flow at its summit every 1 to 3 million years during the final peak of activity.</div><div class=\"overlay_arrow\"><img alt=\"More\" src=\"/assets/overlay-arrow.png\"/></div></div><div class=\"list_image\"><img src=\"/system/news_items/list_view_images/1972_mars-volcano-PIA00177-thmfeat.jpg\"/></div><div class=\"bottom_gradient\"><div><h3>Mars Volcano, Earth's Dinosaurs Went Extinct About the Same Time</h3></div></div></a><div class=\"list_text\"><div class=\"list_date\">March 20, 2017</div><div class=\"content_title\"><a href=\"/news/1972/mars-volcano-earths-dinosaurs-went-extinct-about-the-same-time/\" target=\"_self\">Mars Volcano, Earth's Dinosaurs Went Extinct About the Same Time</a></div><div class=\"article_teaser_body\">New NASA research reveals that the giant Martian volcano Arsia Mons produced one new lava flow at its summit every 1 to 3 million years during the final peak of activity.</div></div></div></li>,\n",
       " <li class=\"slide\"><div class=\"image_and_description_container\"><a href=\"/news/1969/nasa-mars-orbiter-tracks-back-to-back-regional-storms/\" target=\"_self\"><div class=\"rollover_description\"><div class=\"rollover_description_inner\">A regional dust storm currently swelling on Mars follows unusually closely on one that blossomed less than two weeks earlier and is now dissipating, as seen in daily global weather monitoring by NASA's Mars Reconnaissance Orbiter.</div><div class=\"overlay_arrow\"><img alt=\"More\" src=\"/assets/overlay-arrow.png\"/></div></div><div class=\"list_image\"><img src=\"/system/news_items/list_view_images/1969_mars-dust-storm-pia21484-thmfeat.gif\"/></div><div class=\"bottom_gradient\"><div><h3>NASA Mars Orbiter Tracks Back-to-Back Regional Storms</h3></div></div></a><div class=\"list_text\"><div class=\"list_date\">March  9, 2017</div><div class=\"content_title\"><a href=\"/news/1969/nasa-mars-orbiter-tracks-back-to-back-regional-storms/\" target=\"_self\">NASA Mars Orbiter Tracks Back-to-Back Regional Storms</a></div><div class=\"article_teaser_body\">A regional dust storm currently swelling on Mars follows unusually closely on one that blossomed less than two weeks earlier and is now dissipating, as seen in daily global weather monitoring by NASA's Mars Reconnaissance Orbiter.</div></div></div></li>,\n",
       " <li class=\"slide\"><div class=\"image_and_description_container\"><a href=\"/news/1968/nasa-marks-international-womens-day-womens-history-month-with-virtual-tour-highlighting-women-in-stem/\" target=\"_self\"><div class=\"rollover_description\"><div class=\"rollover_description_inner\">In celebration of International Women’s Day on Wednesday and Women’s History Month in March, NASA has unveiled an educational virtual tour that brings students into the exciting careers of seven women in science, technology, engineering and math (STEM) fields at the agency.</div><div class=\"overlay_arrow\"><img alt=\"More\" src=\"/assets/overlay-arrow.png\"/></div></div><div class=\"list_image\"><img src=\"/system/news_items/list_view_images/1968_diaz_christina_pano_small-thmfeat.jpg\"/></div><div class=\"bottom_gradient\"><div><h3>NASA Marks International Women’s Day, Women’s History Month with Virtual Tour Highlighting Women in STEM</h3></div></div></a><div class=\"list_text\"><div class=\"list_date\">March  8, 2017</div><div class=\"content_title\"><a href=\"/news/1968/nasa-marks-international-womens-day-womens-history-month-with-virtual-tour-highlighting-women-in-stem/\" target=\"_self\">NASA Marks International Women’s Day, Women’s History Month with Virtual Tour Highlighting Women in STEM</a></div><div class=\"article_teaser_body\">In celebration of International Women’s Day on Wednesday and Women’s History Month in March, NASA has unveiled an educational virtual tour that brings students into the exciting careers of seven women in science, technology, engineering and math (STEM) fields at the agency.</div></div></div></li>,\n",
       " <li class=\"slide\"><div class=\"image_and_description_container\"><a href=\"/news/1955/mars-rock-ingredient-stew-seen-as-plus-for-habitability/\" target=\"_self\"><div class=\"rollover_description\"><div class=\"rollover_description_inner\">NASA's Curiosity rover finds evidence of how changes in ancient Mars lakes and wet underground environments, billions of years ago, affected favorability for microbial life.</div><div class=\"overlay_arrow\"><img alt=\"More\" src=\"/assets/overlay-arrow.png\"/></div></div><div class=\"list_image\"><img alt=\"\" src=\"/system/news_items/list_view_images/1955_msl-curiosity-color-mount-sharp-white-balanced-sol1516-pia21256-thmfeat.jpg\"/></div><div class=\"bottom_gradient\"><div><h3>Mars Rock-Ingredient Stew Seen as Plus for Habitability</h3></div></div></a><div class=\"list_text\"><div class=\"list_date\">December 13, 2016</div><div class=\"content_title\"><a href=\"/news/1955/mars-rock-ingredient-stew-seen-as-plus-for-habitability/\" target=\"_self\">Mars Rock-Ingredient Stew Seen as Plus for Habitability</a></div><div class=\"article_teaser_body\">NASA's Curiosity rover finds evidence of how changes in ancient Mars lakes and wet underground environments, billions of years ago, affected favorability for microbial life.</div></div></div></li>,\n",
       " <li class=\"slide\"><div class=\"image_and_description_container\"><a href=\"/news/1951/mars-ice-deposit-holds-as-much-water-as-lake-superior/\" target=\"_self\"><div class=\"rollover_description\"><div class=\"rollover_description_inner\">Frozen beneath a region of cracked and pitted plains on Mars lies about as much water as what's in Lake Superior, largest of the Great Lakes, researchers using NASA's Mars Reconnaissance Orbiter have determined.</div><div class=\"overlay_arrow\"><img alt=\"More\" src=\"/assets/overlay-arrow.png\"/></div></div><div class=\"list_image\"><img src=\"/system/news_items/list_view_images/1951_scalloped-terrain-buried-ice-mars-pia21136-thmfeat.jpg\"/></div><div class=\"bottom_gradient\"><div><h3>Mars Ice Deposit Holds as Much Water as Lake Superior</h3></div></div></a><div class=\"list_text\"><div class=\"list_date\">November 22, 2016</div><div class=\"content_title\"><a href=\"/news/1951/mars-ice-deposit-holds-as-much-water-as-lake-superior/\" target=\"_self\">Mars Ice Deposit Holds as Much Water as Lake Superior</a></div><div class=\"article_teaser_body\">Frozen beneath a region of cracked and pitted plains on Mars lies about as much water as what's in Lake Superior, largest of the Great Lakes, researchers using NASA's Mars Reconnaissance Orbiter have determined.</div></div></div></li>]"
      ]
     },
     "execution_count": 50,
     "metadata": {},
     "output_type": "execute_result"
    }
   ],
   "source": [
    "article_list"
   ]
  },
  {
   "cell_type": "code",
   "execution_count": 51,
   "metadata": {},
   "outputs": [
    {
     "data": {
      "text/plain": [
       "'Witness First Mars Launch from West Coast'"
      ]
     },
     "execution_count": 51,
     "metadata": {},
     "output_type": "execute_result"
    }
   ],
   "source": [
    "news_title = article_list[0].find('div', class_='content_title').text\n",
    "news_title"
   ]
  },
  {
   "cell_type": "code",
   "execution_count": 52,
   "metadata": {},
   "outputs": [
    {
     "data": {
      "text/plain": [
       "\"NASA invites digital creators to apply for social media credentials to cover the launch of the InSight mission to Mars, May 3-5, at California's Vandenberg Air Force Base.\""
      ]
     },
     "execution_count": 52,
     "metadata": {},
     "output_type": "execute_result"
    }
   ],
   "source": [
    "news_p = article_list[0].find('div', class_='article_teaser_body').text\n",
    "news_p"
   ]
  },
  {
   "cell_type": "code",
   "execution_count": 46,
   "metadata": {
    "collapsed": true
   },
   "outputs": [],
   "source": [
    "#JPL Mars Space Images - Featured Image\n",
    "\n",
    "#Visit the url for JPL's Featured Space Image here.\n",
    "#Use splinter to navigate the site and find the image url for the current Featured Mars Image and assign the url string to a variable called featured_image_url.\n",
    "#Make sure to find the image url to the full size .jpg image.\n",
    "#Make sure to save a complete url string for this image."
   ]
  },
  {
   "cell_type": "code",
   "execution_count": 68,
   "metadata": {
    "collapsed": true
   },
   "outputs": [],
   "source": [
    "browser = Browser('chrome', headless=False)\n",
    "url = 'https://www.jpl.nasa.gov/spaceimages/?search=&category=Mars'\n",
    "browser.visit(url)"
   ]
  },
  {
   "cell_type": "code",
   "execution_count": 69,
   "metadata": {},
   "outputs": [
    {
     "data": {
      "text/plain": [
       "<a class=\"button fancybox\" data-description=\"This image from NASA's Cassini spacecraft shows three moons -- Titan, Mimas, and Rhea. Titan, the largest moon shown here, appear fuzzy because we only see its cloud layers.\" data-fancybox-group=\"images\" data-fancybox-href=\"/spaceimages/images/mediumsize/PIA18322_ip.jpg\" data-link=\"/spaceimages/details.php?id=PIA18322\" data-title=\"Triple Crescents\" id=\"full_image\">\n",
       "\t\t\t\t\tFULL IMAGE\n",
       "\t\t\t\t  </a>"
      ]
     },
     "execution_count": 69,
     "metadata": {},
     "output_type": "execute_result"
    }
   ],
   "source": [
    "html = browser.html\n",
    "soup = BeautifulSoup(html, 'html.parser')\n",
    "image = soup.find(\"a\", class_='button fancybox')\n",
    "image"
   ]
  },
  {
   "cell_type": "code",
   "execution_count": 70,
   "metadata": {},
   "outputs": [
    {
     "data": {
      "text/plain": [
       "'/spaceimages/images/mediumsize/PIA18322_ip.jpg'"
      ]
     },
     "execution_count": 70,
     "metadata": {},
     "output_type": "execute_result"
    }
   ],
   "source": [
    "featured_image = image['data-fancybox-href']\n",
    "featured_image"
   ]
  },
  {
   "cell_type": "code",
   "execution_count": 71,
   "metadata": {},
   "outputs": [
    {
     "data": {
      "text/plain": [
       "'https://www.jpl.nasa.gov/spaceimages/images/mediumsize/PIA18322_ip.jpg'"
      ]
     },
     "execution_count": 71,
     "metadata": {},
     "output_type": "execute_result"
    }
   ],
   "source": [
    "featured_image_url = 'https://www.jpl.nasa.gov' + featured_image\n",
    "featured_image_url"
   ]
  },
  {
   "cell_type": "code",
   "execution_count": null,
   "metadata": {
    "collapsed": true
   },
   "outputs": [],
   "source": [
    "#Mars Weather\n",
    "\n",
    "#Visit the Mars Weather twitter account here and scrape the latest Mars weather tweet from the page. \n",
    "#Save the tweet text for the weather report as a variable called mars_weather."
   ]
  },
  {
   "cell_type": "code",
   "execution_count": 72,
   "metadata": {
    "collapsed": true
   },
   "outputs": [],
   "source": [
    "browser = Browser('chrome', headless=False)\n",
    "url = 'https://twitter.com/marswxreport?lang=en'\n",
    "browser.visit(url)"
   ]
  },
  {
   "cell_type": "code",
   "execution_count": 77,
   "metadata": {
    "collapsed": true
   },
   "outputs": [],
   "source": [
    "html = browser.html\n",
    "soup = BeautifulSoup(html, \"html.parser\")\n",
    "weather_list = soup.find(\"div\", {'id':'timeline'})"
   ]
  },
  {
   "cell_type": "code",
   "execution_count": 79,
   "metadata": {},
   "outputs": [
    {
     "data": {
      "text/plain": [
       "'Sol 1991 (March 13, 2018), Sunny, high -8C/17F, low -74C/-101F, pressure at 7.21 hPa, daylight 05:34-17:24'"
      ]
     },
     "execution_count": 79,
     "metadata": {},
     "output_type": "execute_result"
    }
   ],
   "source": [
    "mars_weather = weather_list.find('p', class_='tweet-text').text\n",
    "mars_weather"
   ]
  },
  {
   "cell_type": "code",
   "execution_count": null,
   "metadata": {
    "collapsed": true
   },
   "outputs": [],
   "source": [
    "#Mars Facts\n",
    "\n",
    "#Visit the Mars Facts webpage here and use Pandas to scrape the table containing facts about the planet including Diameter, Mass, etc.\n",
    "#Use Pandas to convert the data to a HTML table string."
   ]
  },
  {
   "cell_type": "code",
   "execution_count": 85,
   "metadata": {
    "collapsed": true
   },
   "outputs": [],
   "source": [
    "url = 'https://space-facts.com/mars/'"
   ]
  },
  {
   "cell_type": "code",
   "execution_count": 94,
   "metadata": {},
   "outputs": [
    {
     "data": {
      "text/plain": [
       "[                      0                              1\n",
       " 0  Equatorial Diameter:                       6,792 km\n",
       " 1       Polar Diameter:                       6,752 km\n",
       " 2                 Mass:  6.42 x 10^23 kg (10.7% Earth)\n",
       " 3                Moons:            2 (Phobos & Deimos)\n",
       " 4       Orbit Distance:       227,943,824 km (1.52 AU)\n",
       " 5         Orbit Period:           687 days (1.9 years)\n",
       " 6  Surface Temperature:                  -153 to 20 °C\n",
       " 7         First Record:              2nd millennium BC\n",
       " 8          Recorded By:           Egyptian astronomers]"
      ]
     },
     "execution_count": 94,
     "metadata": {},
     "output_type": "execute_result"
    }
   ],
   "source": [
    "tables = pd.read_html(url)\n",
    "tables"
   ]
  },
  {
   "cell_type": "code",
   "execution_count": 95,
   "metadata": {},
   "outputs": [
    {
     "data": {
      "text/plain": [
       "list"
      ]
     },
     "execution_count": 95,
     "metadata": {},
     "output_type": "execute_result"
    }
   ],
   "source": [
    "type(tables)"
   ]
  },
  {
   "cell_type": "code",
   "execution_count": 96,
   "metadata": {},
   "outputs": [
    {
     "data": {
      "text/html": [
       "<div>\n",
       "<style>\n",
       "    .dataframe thead tr:only-child th {\n",
       "        text-align: right;\n",
       "    }\n",
       "\n",
       "    .dataframe thead th {\n",
       "        text-align: left;\n",
       "    }\n",
       "\n",
       "    .dataframe tbody tr th {\n",
       "        vertical-align: top;\n",
       "    }\n",
       "</style>\n",
       "<table border=\"1\" class=\"dataframe\">\n",
       "  <thead>\n",
       "    <tr style=\"text-align: right;\">\n",
       "      <th></th>\n",
       "      <th>0</th>\n",
       "      <th>1</th>\n",
       "    </tr>\n",
       "  </thead>\n",
       "  <tbody>\n",
       "    <tr>\n",
       "      <th>0</th>\n",
       "      <td>Equatorial Diameter:</td>\n",
       "      <td>6,792 km</td>\n",
       "    </tr>\n",
       "    <tr>\n",
       "      <th>1</th>\n",
       "      <td>Polar Diameter:</td>\n",
       "      <td>6,752 km</td>\n",
       "    </tr>\n",
       "    <tr>\n",
       "      <th>2</th>\n",
       "      <td>Mass:</td>\n",
       "      <td>6.42 x 10^23 kg (10.7% Earth)</td>\n",
       "    </tr>\n",
       "    <tr>\n",
       "      <th>3</th>\n",
       "      <td>Moons:</td>\n",
       "      <td>2 (Phobos &amp; Deimos)</td>\n",
       "    </tr>\n",
       "    <tr>\n",
       "      <th>4</th>\n",
       "      <td>Orbit Distance:</td>\n",
       "      <td>227,943,824 km (1.52 AU)</td>\n",
       "    </tr>\n",
       "    <tr>\n",
       "      <th>5</th>\n",
       "      <td>Orbit Period:</td>\n",
       "      <td>687 days (1.9 years)</td>\n",
       "    </tr>\n",
       "    <tr>\n",
       "      <th>6</th>\n",
       "      <td>Surface Temperature:</td>\n",
       "      <td>-153 to 20 °C</td>\n",
       "    </tr>\n",
       "    <tr>\n",
       "      <th>7</th>\n",
       "      <td>First Record:</td>\n",
       "      <td>2nd millennium BC</td>\n",
       "    </tr>\n",
       "    <tr>\n",
       "      <th>8</th>\n",
       "      <td>Recorded By:</td>\n",
       "      <td>Egyptian astronomers</td>\n",
       "    </tr>\n",
       "  </tbody>\n",
       "</table>\n",
       "</div>"
      ],
      "text/plain": [
       "                      0                              1\n",
       "0  Equatorial Diameter:                       6,792 km\n",
       "1       Polar Diameter:                       6,752 km\n",
       "2                 Mass:  6.42 x 10^23 kg (10.7% Earth)\n",
       "3                Moons:            2 (Phobos & Deimos)\n",
       "4       Orbit Distance:       227,943,824 km (1.52 AU)\n",
       "5         Orbit Period:           687 days (1.9 years)\n",
       "6  Surface Temperature:                  -153 to 20 °C\n",
       "7         First Record:              2nd millennium BC\n",
       "8          Recorded By:           Egyptian astronomers"
      ]
     },
     "execution_count": 96,
     "metadata": {},
     "output_type": "execute_result"
    }
   ],
   "source": [
    "df = tables[0]\n",
    "df"
   ]
  },
  {
   "cell_type": "code",
   "execution_count": 97,
   "metadata": {
    "collapsed": true
   },
   "outputs": [],
   "source": [
    "df.columns = ['Profile', 'Stat']"
   ]
  },
  {
   "cell_type": "code",
   "execution_count": 98,
   "metadata": {},
   "outputs": [
    {
     "data": {
      "text/html": [
       "<div>\n",
       "<style>\n",
       "    .dataframe thead tr:only-child th {\n",
       "        text-align: right;\n",
       "    }\n",
       "\n",
       "    .dataframe thead th {\n",
       "        text-align: left;\n",
       "    }\n",
       "\n",
       "    .dataframe tbody tr th {\n",
       "        vertical-align: top;\n",
       "    }\n",
       "</style>\n",
       "<table border=\"1\" class=\"dataframe\">\n",
       "  <thead>\n",
       "    <tr style=\"text-align: right;\">\n",
       "      <th></th>\n",
       "      <th>Profile</th>\n",
       "      <th>Stat</th>\n",
       "    </tr>\n",
       "  </thead>\n",
       "  <tbody>\n",
       "    <tr>\n",
       "      <th>0</th>\n",
       "      <td>Equatorial Diameter:</td>\n",
       "      <td>6,792 km</td>\n",
       "    </tr>\n",
       "    <tr>\n",
       "      <th>1</th>\n",
       "      <td>Polar Diameter:</td>\n",
       "      <td>6,752 km</td>\n",
       "    </tr>\n",
       "    <tr>\n",
       "      <th>2</th>\n",
       "      <td>Mass:</td>\n",
       "      <td>6.42 x 10^23 kg (10.7% Earth)</td>\n",
       "    </tr>\n",
       "    <tr>\n",
       "      <th>3</th>\n",
       "      <td>Moons:</td>\n",
       "      <td>2 (Phobos &amp; Deimos)</td>\n",
       "    </tr>\n",
       "    <tr>\n",
       "      <th>4</th>\n",
       "      <td>Orbit Distance:</td>\n",
       "      <td>227,943,824 km (1.52 AU)</td>\n",
       "    </tr>\n",
       "    <tr>\n",
       "      <th>5</th>\n",
       "      <td>Orbit Period:</td>\n",
       "      <td>687 days (1.9 years)</td>\n",
       "    </tr>\n",
       "    <tr>\n",
       "      <th>6</th>\n",
       "      <td>Surface Temperature:</td>\n",
       "      <td>-153 to 20 °C</td>\n",
       "    </tr>\n",
       "    <tr>\n",
       "      <th>7</th>\n",
       "      <td>First Record:</td>\n",
       "      <td>2nd millennium BC</td>\n",
       "    </tr>\n",
       "    <tr>\n",
       "      <th>8</th>\n",
       "      <td>Recorded By:</td>\n",
       "      <td>Egyptian astronomers</td>\n",
       "    </tr>\n",
       "  </tbody>\n",
       "</table>\n",
       "</div>"
      ],
      "text/plain": [
       "                Profile                           Stat\n",
       "0  Equatorial Diameter:                       6,792 km\n",
       "1       Polar Diameter:                       6,752 km\n",
       "2                 Mass:  6.42 x 10^23 kg (10.7% Earth)\n",
       "3                Moons:            2 (Phobos & Deimos)\n",
       "4       Orbit Distance:       227,943,824 km (1.52 AU)\n",
       "5         Orbit Period:           687 days (1.9 years)\n",
       "6  Surface Temperature:                  -153 to 20 °C\n",
       "7         First Record:              2nd millennium BC\n",
       "8          Recorded By:           Egyptian astronomers"
      ]
     },
     "execution_count": 98,
     "metadata": {},
     "output_type": "execute_result"
    }
   ],
   "source": [
    "df"
   ]
  },
  {
   "cell_type": "code",
   "execution_count": 99,
   "metadata": {},
   "outputs": [
    {
     "data": {
      "text/html": [
       "<div>\n",
       "<style>\n",
       "    .dataframe thead tr:only-child th {\n",
       "        text-align: right;\n",
       "    }\n",
       "\n",
       "    .dataframe thead th {\n",
       "        text-align: left;\n",
       "    }\n",
       "\n",
       "    .dataframe tbody tr th {\n",
       "        vertical-align: top;\n",
       "    }\n",
       "</style>\n",
       "<table border=\"1\" class=\"dataframe\">\n",
       "  <thead>\n",
       "    <tr style=\"text-align: right;\">\n",
       "      <th></th>\n",
       "      <th>Stat</th>\n",
       "    </tr>\n",
       "    <tr>\n",
       "      <th>Profile</th>\n",
       "      <th></th>\n",
       "    </tr>\n",
       "  </thead>\n",
       "  <tbody>\n",
       "    <tr>\n",
       "      <th>Equatorial Diameter:</th>\n",
       "      <td>6,792 km</td>\n",
       "    </tr>\n",
       "    <tr>\n",
       "      <th>Polar Diameter:</th>\n",
       "      <td>6,752 km</td>\n",
       "    </tr>\n",
       "    <tr>\n",
       "      <th>Mass:</th>\n",
       "      <td>6.42 x 10^23 kg (10.7% Earth)</td>\n",
       "    </tr>\n",
       "    <tr>\n",
       "      <th>Moons:</th>\n",
       "      <td>2 (Phobos &amp; Deimos)</td>\n",
       "    </tr>\n",
       "    <tr>\n",
       "      <th>Orbit Distance:</th>\n",
       "      <td>227,943,824 km (1.52 AU)</td>\n",
       "    </tr>\n",
       "    <tr>\n",
       "      <th>Orbit Period:</th>\n",
       "      <td>687 days (1.9 years)</td>\n",
       "    </tr>\n",
       "    <tr>\n",
       "      <th>Surface Temperature:</th>\n",
       "      <td>-153 to 20 °C</td>\n",
       "    </tr>\n",
       "    <tr>\n",
       "      <th>First Record:</th>\n",
       "      <td>2nd millennium BC</td>\n",
       "    </tr>\n",
       "    <tr>\n",
       "      <th>Recorded By:</th>\n",
       "      <td>Egyptian astronomers</td>\n",
       "    </tr>\n",
       "  </tbody>\n",
       "</table>\n",
       "</div>"
      ],
      "text/plain": [
       "                                               Stat\n",
       "Profile                                            \n",
       "Equatorial Diameter:                       6,792 km\n",
       "Polar Diameter:                            6,752 km\n",
       "Mass:                 6.42 x 10^23 kg (10.7% Earth)\n",
       "Moons:                          2 (Phobos & Deimos)\n",
       "Orbit Distance:            227,943,824 km (1.52 AU)\n",
       "Orbit Period:                  687 days (1.9 years)\n",
       "Surface Temperature:                  -153 to 20 °C\n",
       "First Record:                     2nd millennium BC\n",
       "Recorded By:                   Egyptian astronomers"
      ]
     },
     "execution_count": 99,
     "metadata": {},
     "output_type": "execute_result"
    }
   ],
   "source": [
    "df.set_index('Profile', inplace=True)\n",
    "df"
   ]
  },
  {
   "cell_type": "code",
   "execution_count": 100,
   "metadata": {},
   "outputs": [
    {
     "data": {
      "text/plain": [
       "'<table border=\"1\" class=\"dataframe\">\\n  <thead>\\n    <tr style=\"text-align: right;\">\\n      <th></th>\\n      <th>Stat</th>\\n    </tr>\\n    <tr>\\n      <th>Profile</th>\\n      <th></th>\\n    </tr>\\n  </thead>\\n  <tbody>\\n    <tr>\\n      <th>Equatorial Diameter:</th>\\n      <td>6,792 km</td>\\n    </tr>\\n    <tr>\\n      <th>Polar Diameter:</th>\\n      <td>6,752 km</td>\\n    </tr>\\n    <tr>\\n      <th>Mass:</th>\\n      <td>6.42 x 10^23 kg (10.7% Earth)</td>\\n    </tr>\\n    <tr>\\n      <th>Moons:</th>\\n      <td>2 (Phobos &amp; Deimos)</td>\\n    </tr>\\n    <tr>\\n      <th>Orbit Distance:</th>\\n      <td>227,943,824 km (1.52 AU)</td>\\n    </tr>\\n    <tr>\\n      <th>Orbit Period:</th>\\n      <td>687 days (1.9 years)</td>\\n    </tr>\\n    <tr>\\n      <th>Surface Temperature:</th>\\n      <td>-153 to 20 °C</td>\\n    </tr>\\n    <tr>\\n      <th>First Record:</th>\\n      <td>2nd millennium BC</td>\\n    </tr>\\n    <tr>\\n      <th>Recorded By:</th>\\n      <td>Egyptian astronomers</td>\\n    </tr>\\n  </tbody>\\n</table>'"
      ]
     },
     "execution_count": 100,
     "metadata": {},
     "output_type": "execute_result"
    }
   ],
   "source": [
    "html_table = df.to_html()\n",
    "html_table"
   ]
  },
  {
   "cell_type": "code",
   "execution_count": 101,
   "metadata": {},
   "outputs": [
    {
     "data": {
      "text/plain": [
       "'<table border=\"1\" class=\"dataframe\">  <thead>    <tr style=\"text-align: right;\">      <th></th>      <th>Stat</th>    </tr>    <tr>      <th>Profile</th>      <th></th>    </tr>  </thead>  <tbody>    <tr>      <th>Equatorial Diameter:</th>      <td>6,792 km</td>    </tr>    <tr>      <th>Polar Diameter:</th>      <td>6,752 km</td>    </tr>    <tr>      <th>Mass:</th>      <td>6.42 x 10^23 kg (10.7% Earth)</td>    </tr>    <tr>      <th>Moons:</th>      <td>2 (Phobos &amp; Deimos)</td>    </tr>    <tr>      <th>Orbit Distance:</th>      <td>227,943,824 km (1.52 AU)</td>    </tr>    <tr>      <th>Orbit Period:</th>      <td>687 days (1.9 years)</td>    </tr>    <tr>      <th>Surface Temperature:</th>      <td>-153 to 20 °C</td>    </tr>    <tr>      <th>First Record:</th>      <td>2nd millennium BC</td>    </tr>    <tr>      <th>Recorded By:</th>      <td>Egyptian astronomers</td>    </tr>  </tbody></table>'"
      ]
     },
     "execution_count": 101,
     "metadata": {},
     "output_type": "execute_result"
    }
   ],
   "source": [
    "html_table.replace('\\n', '')"
   ]
  },
  {
   "cell_type": "code",
   "execution_count": 102,
   "metadata": {
    "collapsed": true
   },
   "outputs": [],
   "source": [
    "df.to_html('table.html')"
   ]
  },
  {
   "cell_type": "code",
   "execution_count": null,
   "metadata": {
    "collapsed": true
   },
   "outputs": [],
   "source": [
    "#Mars Hemisperes\n",
    "\n",
    "#Visit the USGS Astrogeology site here to obtain high resolution images for each of Mar's hemispheres.\n",
    "\n",
    "#You will need to click each of the links to the hemispheres in order to find the image url to the full \n",
    "#resolution image.\n",
    "\n",
    "#Save both the image url string for the full resolution hemipshere image, and the Hemisphere title containing \n",
    "#the hemisphere name. Use a Python dictionary to store the data using the keys img_url and title.\n",
    "\n",
    "#Append the dictionary with the image url string and the hemisphere title to a list. This list will \n",
    "#contain one dictionary for each hemisphere.\n"
   ]
  },
  {
   "cell_type": "code",
   "execution_count": null,
   "metadata": {
    "collapsed": true
   },
   "outputs": [],
   "source": []
  },
  {
   "cell_type": "code",
   "execution_count": null,
   "metadata": {
    "collapsed": true
   },
   "outputs": [],
   "source": []
  },
  {
   "cell_type": "code",
   "execution_count": null,
   "metadata": {
    "collapsed": true
   },
   "outputs": [],
   "source": []
  },
  {
   "cell_type": "code",
   "execution_count": null,
   "metadata": {
    "collapsed": true
   },
   "outputs": [],
   "source": []
  },
  {
   "cell_type": "code",
   "execution_count": null,
   "metadata": {},
   "outputs": [],
   "source": []
  },
  {
   "cell_type": "code",
   "execution_count": 116,
   "metadata": {
    "collapsed": true
   },
   "outputs": [],
   "source": []
  },
  {
   "cell_type": "code",
   "execution_count": null,
   "metadata": {
    "collapsed": true
   },
   "outputs": [],
   "source": []
  },
  {
   "cell_type": "code",
   "execution_count": null,
   "metadata": {
    "collapsed": true
   },
   "outputs": [],
   "source": []
  },
  {
   "cell_type": "code",
   "execution_count": null,
   "metadata": {
    "collapsed": true
   },
   "outputs": [],
   "source": []
  },
  {
   "cell_type": "code",
   "execution_count": null,
   "metadata": {
    "collapsed": true
   },
   "outputs": [],
   "source": []
  },
  {
   "cell_type": "code",
   "execution_count": null,
   "metadata": {
    "collapsed": true
   },
   "outputs": [],
   "source": []
  }
 ],
 "metadata": {
  "kernelspec": {
   "display_name": "Python 3",
   "language": "python",
   "name": "python3"
  },
  "language_info": {
   "codemirror_mode": {
    "name": "ipython",
    "version": 3
   },
   "file_extension": ".py",
   "mimetype": "text/x-python",
   "name": "python",
   "nbconvert_exporter": "python",
   "pygments_lexer": "ipython3",
   "version": "3.6.3"
  }
 },
 "nbformat": 4,
 "nbformat_minor": 2
}
