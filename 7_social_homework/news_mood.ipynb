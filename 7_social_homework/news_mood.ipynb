{
 "cells": [
  {
   "cell_type": "markdown",
   "metadata": {},
   "source": [
    "## Observable Trends\n",
    "\n",
    "1) There is a high concentration of individual tweets with neutral polarity for all media sources.\n",
    "\n",
    "2) CBS and BBC had the most positive tweet polarity, while CNN and Fox News had the most negative tweet polarity. \n",
    "\n",
    "3) Out of the total individual tweets gathered, there is a fairly equal distribution of both positive and negative tweets. "
   ]
  },
  {
   "cell_type": "code",
   "execution_count": 1,
   "metadata": {
    "collapsed": true
   },
   "outputs": [],
   "source": [
    "#Dependencies\n",
    "import numpy as np\n",
    "import pandas as pd\n",
    "import matplotlib.pyplot as plt\n",
    "import json\n",
    "import tweepy\n",
    "import time\n",
    "import datetime\n",
    "import seaborn as sns\n",
    "import os\n",
    "from dateutil.parser import parse\n",
    "\n",
    "from vaderSentiment.vaderSentiment import SentimentIntensityAnalyzer\n",
    "analyzer = SentimentIntensityAnalyzer()"
   ]
  },
  {
   "cell_type": "code",
   "execution_count": 2,
   "metadata": {
    "collapsed": true
   },
   "outputs": [],
   "source": [
    "#Keys\n",
    "file_name = \"/Users/acollier/Documents/api_keys.json\"\n",
    "data = json.load(open(file_name))\n",
    "\n",
    "consumer_key = data['twitter_consumer_key']\n",
    "consumer_secret = data['twitter_consumer_secret']\n",
    "access_token = data['twitter_access_token']\n",
    "access_token_secret = data['twitter_access_token_secret']"
   ]
  },
  {
   "cell_type": "code",
   "execution_count": 3,
   "metadata": {
    "collapsed": true
   },
   "outputs": [],
   "source": [
    "auth = tweepy.OAuthHandler(consumer_key, consumer_secret)\n",
    "auth.set_access_token(access_token, access_token_secret)\n",
    "api = tweepy.API(auth, parser=tweepy.parsers.JSONParser())"
   ]
  },
  {
   "cell_type": "code",
   "execution_count": 4,
   "metadata": {
    "collapsed": true
   },
   "outputs": [],
   "source": [
    "target_user = (\"@BBC\", \"@CBS\", \"@CNN\", \"@FoxNews\", \"@nytimes\")"
   ]
  },
  {
   "cell_type": "code",
   "execution_count": 5,
   "metadata": {
    "collapsed": true
   },
   "outputs": [],
   "source": [
    "compound_list = []\n",
    "positive_list = []\n",
    "negative_list = []\n",
    "neutral_list = []\n",
    "text_list = []\n",
    "source_list = []\n",
    "date_list = []\n",
    "tweet_count = []"
   ]
  },
  {
   "cell_type": "code",
   "execution_count": 6,
   "metadata": {
    "collapsed": true
   },
   "outputs": [],
   "source": [
    "for user in target_user:\n",
    "    counter = 0\n",
    "    # Loop through 5 pages of tweets (total 100 tweets)\n",
    "    for x in range(5):\n",
    "\n",
    "        # Get all tweets from home feed\n",
    "        public_tweets = api.user_timeline(user, page=x)\n",
    "\n",
    "        # Loop through all tweets\n",
    "        for tweet in public_tweets:\n",
    "\n",
    "            # Run Vader Analysis on each tweet\n",
    "            compound = analyzer.polarity_scores(tweet[\"text\"])[\"compound\"]\n",
    "            pos = analyzer.polarity_scores(tweet[\"text\"])[\"pos\"]\n",
    "            neu = analyzer.polarity_scores(tweet[\"text\"])[\"neu\"]\n",
    "            neg = analyzer.polarity_scores(tweet[\"text\"])[\"neg\"]\n",
    "\n",
    "            # Add each value to the appropriate array\n",
    "            compound_list.append(compound)\n",
    "            positive_list.append(pos)\n",
    "            negative_list.append(neg)\n",
    "            neutral_list.append(neu)\n",
    "            text_list.append(tweet['text'])\n",
    "            date_list.append(parse(tweet['created_at']))\n",
    "            source_list.append(user)\n",
    "            tweet_count.append(counter)\n",
    "            counter += 1"
   ]
  },
  {
   "cell_type": "code",
   "execution_count": 7,
   "metadata": {
    "collapsed": true
   },
   "outputs": [],
   "source": [
    "news_tweets = {\"Date\": date_list,\n",
    "              \"User\": source_list,\n",
    "              \"Tweet Text\": text_list,\n",
    "              \"Compound\": compound_list,\n",
    "              \"Positive\": positive_list,\n",
    "              \"Neutral\": negative_list,\n",
    "              \"Negative\": neutral_list,\n",
    "              \"Tweet Count\": tweet_count\n",
    "             }"
   ]
  },
  {
   "cell_type": "code",
   "execution_count": 8,
   "metadata": {},
   "outputs": [
    {
     "data": {
      "text/html": [
       "<div>\n",
       "<style>\n",
       "    .dataframe thead tr:only-child th {\n",
       "        text-align: right;\n",
       "    }\n",
       "\n",
       "    .dataframe thead th {\n",
       "        text-align: left;\n",
       "    }\n",
       "\n",
       "    .dataframe tbody tr th {\n",
       "        vertical-align: top;\n",
       "    }\n",
       "</style>\n",
       "<table border=\"1\" class=\"dataframe\">\n",
       "  <thead>\n",
       "    <tr style=\"text-align: right;\">\n",
       "      <th></th>\n",
       "      <th>Compound</th>\n",
       "      <th>Date</th>\n",
       "      <th>Negative</th>\n",
       "      <th>Neutral</th>\n",
       "      <th>Positive</th>\n",
       "      <th>Tweet Count</th>\n",
       "      <th>Tweet Text</th>\n",
       "      <th>User</th>\n",
       "    </tr>\n",
       "  </thead>\n",
       "  <tbody>\n",
       "    <tr>\n",
       "      <th>0</th>\n",
       "      <td>0.0000</td>\n",
       "      <td>2018-02-02 20:04:03+00:00</td>\n",
       "      <td>1.00</td>\n",
       "      <td>0.0</td>\n",
       "      <td>0.00</td>\n",
       "      <td>0</td>\n",
       "      <td>A young woman investigates the historic disapp...</td>\n",
       "      <td>@BBC</td>\n",
       "    </tr>\n",
       "    <tr>\n",
       "      <th>1</th>\n",
       "      <td>0.0000</td>\n",
       "      <td>2018-02-02 19:32:04+00:00</td>\n",
       "      <td>1.00</td>\n",
       "      <td>0.0</td>\n",
       "      <td>0.00</td>\n",
       "      <td>1</td>\n",
       "      <td>Tonight, @NigelSlater cooks and eats with the ...</td>\n",
       "      <td>@BBC</td>\n",
       "    </tr>\n",
       "    <tr>\n",
       "      <th>2</th>\n",
       "      <td>0.0000</td>\n",
       "      <td>2018-02-02 19:00:07+00:00</td>\n",
       "      <td>1.00</td>\n",
       "      <td>0.0</td>\n",
       "      <td>0.00</td>\n",
       "      <td>2</td>\n",
       "      <td>🤼 Ever heard of the Russian martial art 'Syste...</td>\n",
       "      <td>@BBC</td>\n",
       "    </tr>\n",
       "    <tr>\n",
       "      <th>3</th>\n",
       "      <td>0.4588</td>\n",
       "      <td>2018-02-02 18:30:06+00:00</td>\n",
       "      <td>0.85</td>\n",
       "      <td>0.0</td>\n",
       "      <td>0.15</td>\n",
       "      <td>3</td>\n",
       "      <td>🍞😋 When toast gets really tasty...\\n\\nHere are...</td>\n",
       "      <td>@BBC</td>\n",
       "    </tr>\n",
       "    <tr>\n",
       "      <th>4</th>\n",
       "      <td>0.0000</td>\n",
       "      <td>2018-02-02 17:31:01+00:00</td>\n",
       "      <td>1.00</td>\n",
       "      <td>0.0</td>\n",
       "      <td>0.00</td>\n",
       "      <td>4</td>\n",
       "      <td>'Oh hey............ man.'\\n\\n😂 When you run in...</td>\n",
       "      <td>@BBC</td>\n",
       "    </tr>\n",
       "  </tbody>\n",
       "</table>\n",
       "</div>"
      ],
      "text/plain": [
       "   Compound                      Date  Negative  Neutral  Positive  \\\n",
       "0    0.0000 2018-02-02 20:04:03+00:00      1.00      0.0      0.00   \n",
       "1    0.0000 2018-02-02 19:32:04+00:00      1.00      0.0      0.00   \n",
       "2    0.0000 2018-02-02 19:00:07+00:00      1.00      0.0      0.00   \n",
       "3    0.4588 2018-02-02 18:30:06+00:00      0.85      0.0      0.15   \n",
       "4    0.0000 2018-02-02 17:31:01+00:00      1.00      0.0      0.00   \n",
       "\n",
       "   Tweet Count                                         Tweet Text  User  \n",
       "0            0  A young woman investigates the historic disapp...  @BBC  \n",
       "1            1  Tonight, @NigelSlater cooks and eats with the ...  @BBC  \n",
       "2            2  🤼 Ever heard of the Russian martial art 'Syste...  @BBC  \n",
       "3            3  🍞😋 When toast gets really tasty...\\n\\nHere are...  @BBC  \n",
       "4            4  'Oh hey............ man.'\\n\\n😂 When you run in...  @BBC  "
      ]
     },
     "execution_count": 8,
     "metadata": {},
     "output_type": "execute_result"
    }
   ],
   "source": [
    "news_tweets_pd = pd.DataFrame.from_dict(news_tweets)\n",
    "news_tweets_pd.head()"
   ]
  },
  {
   "cell_type": "code",
   "execution_count": 9,
   "metadata": {},
   "outputs": [
    {
     "data": {
      "text/html": [
       "<div>\n",
       "<style>\n",
       "    .dataframe thead tr:only-child th {\n",
       "        text-align: right;\n",
       "    }\n",
       "\n",
       "    .dataframe thead th {\n",
       "        text-align: left;\n",
       "    }\n",
       "\n",
       "    .dataframe tbody tr th {\n",
       "        vertical-align: top;\n",
       "    }\n",
       "</style>\n",
       "<table border=\"1\" class=\"dataframe\">\n",
       "  <thead>\n",
       "    <tr style=\"text-align: right;\">\n",
       "      <th></th>\n",
       "      <th>User</th>\n",
       "      <th>Tweet Count</th>\n",
       "      <th>Tweet Text</th>\n",
       "      <th>Date</th>\n",
       "      <th>Compound</th>\n",
       "      <th>Positive</th>\n",
       "      <th>Neutral</th>\n",
       "      <th>Negative</th>\n",
       "    </tr>\n",
       "  </thead>\n",
       "  <tbody>\n",
       "    <tr>\n",
       "      <th>0</th>\n",
       "      <td>@BBC</td>\n",
       "      <td>0</td>\n",
       "      <td>A young woman investigates the historic disapp...</td>\n",
       "      <td>2018-02-02 20:04:03+00:00</td>\n",
       "      <td>0.0000</td>\n",
       "      <td>0.00</td>\n",
       "      <td>0.0</td>\n",
       "      <td>1.00</td>\n",
       "    </tr>\n",
       "    <tr>\n",
       "      <th>1</th>\n",
       "      <td>@BBC</td>\n",
       "      <td>1</td>\n",
       "      <td>Tonight, @NigelSlater cooks and eats with the ...</td>\n",
       "      <td>2018-02-02 19:32:04+00:00</td>\n",
       "      <td>0.0000</td>\n",
       "      <td>0.00</td>\n",
       "      <td>0.0</td>\n",
       "      <td>1.00</td>\n",
       "    </tr>\n",
       "    <tr>\n",
       "      <th>2</th>\n",
       "      <td>@BBC</td>\n",
       "      <td>2</td>\n",
       "      <td>🤼 Ever heard of the Russian martial art 'Syste...</td>\n",
       "      <td>2018-02-02 19:00:07+00:00</td>\n",
       "      <td>0.0000</td>\n",
       "      <td>0.00</td>\n",
       "      <td>0.0</td>\n",
       "      <td>1.00</td>\n",
       "    </tr>\n",
       "    <tr>\n",
       "      <th>3</th>\n",
       "      <td>@BBC</td>\n",
       "      <td>3</td>\n",
       "      <td>🍞😋 When toast gets really tasty...\\n\\nHere are...</td>\n",
       "      <td>2018-02-02 18:30:06+00:00</td>\n",
       "      <td>0.4588</td>\n",
       "      <td>0.15</td>\n",
       "      <td>0.0</td>\n",
       "      <td>0.85</td>\n",
       "    </tr>\n",
       "    <tr>\n",
       "      <th>4</th>\n",
       "      <td>@BBC</td>\n",
       "      <td>4</td>\n",
       "      <td>'Oh hey............ man.'\\n\\n😂 When you run in...</td>\n",
       "      <td>2018-02-02 17:31:01+00:00</td>\n",
       "      <td>0.0000</td>\n",
       "      <td>0.00</td>\n",
       "      <td>0.0</td>\n",
       "      <td>1.00</td>\n",
       "    </tr>\n",
       "  </tbody>\n",
       "</table>\n",
       "</div>"
      ],
      "text/plain": [
       "   User  Tweet Count                                         Tweet Text  \\\n",
       "0  @BBC            0  A young woman investigates the historic disapp...   \n",
       "1  @BBC            1  Tonight, @NigelSlater cooks and eats with the ...   \n",
       "2  @BBC            2  🤼 Ever heard of the Russian martial art 'Syste...   \n",
       "3  @BBC            3  🍞😋 When toast gets really tasty...\\n\\nHere are...   \n",
       "4  @BBC            4  'Oh hey............ man.'\\n\\n😂 When you run in...   \n",
       "\n",
       "                       Date  Compound  Positive  Neutral  Negative  \n",
       "0 2018-02-02 20:04:03+00:00    0.0000      0.00      0.0      1.00  \n",
       "1 2018-02-02 19:32:04+00:00    0.0000      0.00      0.0      1.00  \n",
       "2 2018-02-02 19:00:07+00:00    0.0000      0.00      0.0      1.00  \n",
       "3 2018-02-02 18:30:06+00:00    0.4588      0.15      0.0      0.85  \n",
       "4 2018-02-02 17:31:01+00:00    0.0000      0.00      0.0      1.00  "
      ]
     },
     "execution_count": 9,
     "metadata": {},
     "output_type": "execute_result"
    }
   ],
   "source": [
    "news_tweets_pd = news_tweets_pd[[\"User\", \"Tweet Count\", \"Tweet Text\", \"Date\", \"Compound\", \"Positive\", \"Neutral\", \"Negative\"]]\n",
    "news_tweets_pd.head()"
   ]
  },
  {
   "cell_type": "code",
   "execution_count": 10,
   "metadata": {
    "collapsed": true
   },
   "outputs": [],
   "source": [
    "news_tweets_pd.to_csv(\"news_tweets.csv\", index=False)"
   ]
  },
  {
   "cell_type": "code",
   "execution_count": 11,
   "metadata": {},
   "outputs": [
    {
     "data": {
      "image/png": "[encoded data removed]",
      "text/plain": [
       "<matplotlib.figure.Figure at 0x17274e0b550>"
      ]
     },
     "metadata": {},
     "output_type": "display_data"
    }
   ],
   "source": [
    "sns.set_style('darkgrid')\n",
    "today_date = datetime.datetime.now().strftime('%m/%d/%y')\n",
    "user_type = news_tweets_pd[\"User\"].unique()\n",
    "colors = [\"lightskyblue\", \"green\", \"red\", \"blue\", \"yellow\"]\n",
    "\n",
    "tweets_facetgrid = sns.FacetGrid(data=news_tweets_pd, hue=\"User\", hue_order=user_type, palette=colors)\n",
    "tweets_facetgrid.map(plt.scatter, 'Tweet Count', 'Compound', alpha=0.5, marker='o', edgecolors=\"black\", linewidth=1)\n",
    "tweets_facetgrid.fig.set_size_inches(8,5)\n",
    "\n",
    "\n",
    "plt.title(\"Sentiment Analysis of Media Tweets (\" + today_date + \")\")\n",
    "plt.xlabel(\"Tweets Ago\")\n",
    "plt.ylabel(\"Tweet Polarity\")\n",
    "plt.legend(bbox_to_anchor=(1, 1), title=\"Media Sources\")\n",
    "plt.show()"
   ]
  },
  {
   "cell_type": "code",
   "execution_count": 12,
   "metadata": {},
   "outputs": [
    {
     "data": {
      "text/html": [
       "<div>\n",
       "<style>\n",
       "    .dataframe thead tr:only-child th {\n",
       "        text-align: right;\n",
       "    }\n",
       "\n",
       "    .dataframe thead th {\n",
       "        text-align: left;\n",
       "    }\n",
       "\n",
       "    .dataframe tbody tr th {\n",
       "        vertical-align: top;\n",
       "    }\n",
       "</style>\n",
       "<table border=\"1\" class=\"dataframe\">\n",
       "  <thead>\n",
       "    <tr style=\"text-align: right;\">\n",
       "      <th></th>\n",
       "      <th>User</th>\n",
       "      <th>Compound</th>\n",
       "    </tr>\n",
       "  </thead>\n",
       "  <tbody>\n",
       "    <tr>\n",
       "      <th>0</th>\n",
       "      <td>@BBC</td>\n",
       "      <td>0.208463</td>\n",
       "    </tr>\n",
       "    <tr>\n",
       "      <th>1</th>\n",
       "      <td>@CBS</td>\n",
       "      <td>0.341264</td>\n",
       "    </tr>\n",
       "    <tr>\n",
       "      <th>2</th>\n",
       "      <td>@CNN</td>\n",
       "      <td>-0.042276</td>\n",
       "    </tr>\n",
       "    <tr>\n",
       "      <th>3</th>\n",
       "      <td>@FoxNews</td>\n",
       "      <td>-0.036477</td>\n",
       "    </tr>\n",
       "    <tr>\n",
       "      <th>4</th>\n",
       "      <td>@nytimes</td>\n",
       "      <td>0.022969</td>\n",
       "    </tr>\n",
       "  </tbody>\n",
       "</table>\n",
       "</div>"
      ],
      "text/plain": [
       "       User  Compound\n",
       "0      @BBC  0.208463\n",
       "1      @CBS  0.341264\n",
       "2      @CNN -0.042276\n",
       "3  @FoxNews -0.036477\n",
       "4  @nytimes  0.022969"
      ]
     },
     "execution_count": 12,
     "metadata": {},
     "output_type": "execute_result"
    }
   ],
   "source": [
    "avg_sentiment = news_tweets_pd.groupby(['User']).agg({'Compound':'mean'})\n",
    "avg_sentiment = avg_sentiment.reset_index()\n",
    "avg_sentiment"
   ]
  },
  {
   "cell_type": "code",
   "execution_count": 13,
   "metadata": {},
   "outputs": [
    {
     "data": {
      "image/png": "[encoded data removed]",
      "text/plain": [
       "<matplotlib.figure.Figure at 0x1727106c320>"
      ]
     },
     "metadata": {},
     "output_type": "display_data"
    }
   ],
   "source": [
    "sentiment_plot = sns.barplot(data=avg_sentiment, palette=colors, x=\"User\", y=\"Compound\")\n",
    "\n",
    "plt.title(\"Overall Media Sentiment based on Twitter (\" + today_date + \")\")\n",
    "plt.xlabel(\"\")\n",
    "plt.ylabel(\"Tweet Polarity\")\n",
    "\n",
    "plt.show()\n",
    "plt.gcf().clear()"
   ]
  },
  {
   "cell_type": "code",
   "execution_count": null,
   "metadata": {
    "collapsed": true
   },
   "outputs": [],
   "source": []
  }
 ],
 "metadata": {
  "kernelspec": {
   "display_name": "Python 3",
   "language": "python",
   "name": "python3"
  },
  "language_info": {
   "codemirror_mode": {
    "name": "ipython",
    "version": 3
   },
   "file_extension": ".py",
   "mimetype": "text/x-python",
   "name": "python",
   "nbconvert_exporter": "python",
   "pygments_lexer": "ipython3",
   "version": "3.6.3"
  }
 },
 "nbformat": 4,
 "nbformat_minor": 2
}
